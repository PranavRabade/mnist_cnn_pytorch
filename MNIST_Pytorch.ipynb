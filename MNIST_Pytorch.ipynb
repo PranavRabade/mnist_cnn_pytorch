{
  "nbformat": 4,
  "nbformat_minor": 0,
  "metadata": {
    "colab": {
      "name": "MNIST_Pytorch.ipynb",
      "provenance": []
    },
    "kernelspec": {
      "name": "python3",
      "display_name": "Python 3"
    },
    "accelerator": "GPU",
    "widgets": {
      "application/vnd.jupyter.widget-state+json": {
        "f6ed50664ccc4c53bcd272bd8a8b22d6": {
          "model_module": "@jupyter-widgets/controls",
          "model_name": "HBoxModel",
          "state": {
            "_view_name": "HBoxView",
            "_dom_classes": [],
            "_model_name": "HBoxModel",
            "_view_module": "@jupyter-widgets/controls",
            "_model_module_version": "1.5.0",
            "_view_count": null,
            "_view_module_version": "1.5.0",
            "box_style": "",
            "layout": "IPY_MODEL_187e237ae95b4a469e93ba023431b205",
            "_model_module": "@jupyter-widgets/controls",
            "children": [
              "IPY_MODEL_e95142f6b3594f878e40b57c5cf75dbf",
              "IPY_MODEL_b492eb3594cd4a49893ce36f77ce2e2b"
            ]
          }
        },
        "187e237ae95b4a469e93ba023431b205": {
          "model_module": "@jupyter-widgets/base",
          "model_name": "LayoutModel",
          "state": {
            "_view_name": "LayoutView",
            "grid_template_rows": null,
            "right": null,
            "justify_content": null,
            "_view_module": "@jupyter-widgets/base",
            "overflow": null,
            "_model_module_version": "1.2.0",
            "_view_count": null,
            "flex_flow": null,
            "width": null,
            "min_width": null,
            "border": null,
            "align_items": null,
            "bottom": null,
            "_model_module": "@jupyter-widgets/base",
            "top": null,
            "grid_column": null,
            "overflow_y": null,
            "overflow_x": null,
            "grid_auto_flow": null,
            "grid_area": null,
            "grid_template_columns": null,
            "flex": null,
            "_model_name": "LayoutModel",
            "justify_items": null,
            "grid_row": null,
            "max_height": null,
            "align_content": null,
            "visibility": null,
            "align_self": null,
            "height": null,
            "min_height": null,
            "padding": null,
            "grid_auto_rows": null,
            "grid_gap": null,
            "max_width": null,
            "order": null,
            "_view_module_version": "1.2.0",
            "grid_template_areas": null,
            "object_position": null,
            "object_fit": null,
            "grid_auto_columns": null,
            "margin": null,
            "display": null,
            "left": null
          }
        },
        "e95142f6b3594f878e40b57c5cf75dbf": {
          "model_module": "@jupyter-widgets/controls",
          "model_name": "IntProgressModel",
          "state": {
            "_view_name": "ProgressView",
            "style": "IPY_MODEL_fd541af349b64918a53d3a3ced85163a",
            "_dom_classes": [],
            "description": "",
            "_model_name": "IntProgressModel",
            "bar_style": "info",
            "max": 1,
            "_view_module": "@jupyter-widgets/controls",
            "_model_module_version": "1.5.0",
            "value": 1,
            "_view_count": null,
            "_view_module_version": "1.5.0",
            "orientation": "horizontal",
            "min": 0,
            "description_tooltip": null,
            "_model_module": "@jupyter-widgets/controls",
            "layout": "IPY_MODEL_88a98197cb914b808e3bf45c18193a78"
          }
        },
        "b492eb3594cd4a49893ce36f77ce2e2b": {
          "model_module": "@jupyter-widgets/controls",
          "model_name": "HTMLModel",
          "state": {
            "_view_name": "HTMLView",
            "style": "IPY_MODEL_fe14f7284b1e4896bc0c06bb7c6ba9a1",
            "_dom_classes": [],
            "description": "",
            "_model_name": "HTMLModel",
            "placeholder": "​",
            "_view_module": "@jupyter-widgets/controls",
            "_model_module_version": "1.5.0",
            "value": " 9920512/? [00:20&lt;00:00, 7255171.76it/s]",
            "_view_count": null,
            "_view_module_version": "1.5.0",
            "description_tooltip": null,
            "_model_module": "@jupyter-widgets/controls",
            "layout": "IPY_MODEL_4dbed2f93ba74156ab4846e7d84bd9bf"
          }
        },
        "fd541af349b64918a53d3a3ced85163a": {
          "model_module": "@jupyter-widgets/controls",
          "model_name": "ProgressStyleModel",
          "state": {
            "_view_name": "StyleView",
            "_model_name": "ProgressStyleModel",
            "description_width": "initial",
            "_view_module": "@jupyter-widgets/base",
            "_model_module_version": "1.5.0",
            "_view_count": null,
            "_view_module_version": "1.2.0",
            "bar_color": null,
            "_model_module": "@jupyter-widgets/controls"
          }
        },
        "88a98197cb914b808e3bf45c18193a78": {
          "model_module": "@jupyter-widgets/base",
          "model_name": "LayoutModel",
          "state": {
            "_view_name": "LayoutView",
            "grid_template_rows": null,
            "right": null,
            "justify_content": null,
            "_view_module": "@jupyter-widgets/base",
            "overflow": null,
            "_model_module_version": "1.2.0",
            "_view_count": null,
            "flex_flow": null,
            "width": null,
            "min_width": null,
            "border": null,
            "align_items": null,
            "bottom": null,
            "_model_module": "@jupyter-widgets/base",
            "top": null,
            "grid_column": null,
            "overflow_y": null,
            "overflow_x": null,
            "grid_auto_flow": null,
            "grid_area": null,
            "grid_template_columns": null,
            "flex": null,
            "_model_name": "LayoutModel",
            "justify_items": null,
            "grid_row": null,
            "max_height": null,
            "align_content": null,
            "visibility": null,
            "align_self": null,
            "height": null,
            "min_height": null,
            "padding": null,
            "grid_auto_rows": null,
            "grid_gap": null,
            "max_width": null,
            "order": null,
            "_view_module_version": "1.2.0",
            "grid_template_areas": null,
            "object_position": null,
            "object_fit": null,
            "grid_auto_columns": null,
            "margin": null,
            "display": null,
            "left": null
          }
        },
        "fe14f7284b1e4896bc0c06bb7c6ba9a1": {
          "model_module": "@jupyter-widgets/controls",
          "model_name": "DescriptionStyleModel",
          "state": {
            "_view_name": "StyleView",
            "_model_name": "DescriptionStyleModel",
            "description_width": "",
            "_view_module": "@jupyter-widgets/base",
            "_model_module_version": "1.5.0",
            "_view_count": null,
            "_view_module_version": "1.2.0",
            "_model_module": "@jupyter-widgets/controls"
          }
        },
        "4dbed2f93ba74156ab4846e7d84bd9bf": {
          "model_module": "@jupyter-widgets/base",
          "model_name": "LayoutModel",
          "state": {
            "_view_name": "LayoutView",
            "grid_template_rows": null,
            "right": null,
            "justify_content": null,
            "_view_module": "@jupyter-widgets/base",
            "overflow": null,
            "_model_module_version": "1.2.0",
            "_view_count": null,
            "flex_flow": null,
            "width": null,
            "min_width": null,
            "border": null,
            "align_items": null,
            "bottom": null,
            "_model_module": "@jupyter-widgets/base",
            "top": null,
            "grid_column": null,
            "overflow_y": null,
            "overflow_x": null,
            "grid_auto_flow": null,
            "grid_area": null,
            "grid_template_columns": null,
            "flex": null,
            "_model_name": "LayoutModel",
            "justify_items": null,
            "grid_row": null,
            "max_height": null,
            "align_content": null,
            "visibility": null,
            "align_self": null,
            "height": null,
            "min_height": null,
            "padding": null,
            "grid_auto_rows": null,
            "grid_gap": null,
            "max_width": null,
            "order": null,
            "_view_module_version": "1.2.0",
            "grid_template_areas": null,
            "object_position": null,
            "object_fit": null,
            "grid_auto_columns": null,
            "margin": null,
            "display": null,
            "left": null
          }
        },
        "ca45434111274ebd9aa653cf2f69b67a": {
          "model_module": "@jupyter-widgets/controls",
          "model_name": "HBoxModel",
          "state": {
            "_view_name": "HBoxView",
            "_dom_classes": [],
            "_model_name": "HBoxModel",
            "_view_module": "@jupyter-widgets/controls",
            "_model_module_version": "1.5.0",
            "_view_count": null,
            "_view_module_version": "1.5.0",
            "box_style": "",
            "layout": "IPY_MODEL_b789472d175749239addd42bb3105d67",
            "_model_module": "@jupyter-widgets/controls",
            "children": [
              "IPY_MODEL_d1a1aff743e4485aaf8682c096a5a744",
              "IPY_MODEL_3db0805ae08448da9c655758472fe2d4"
            ]
          }
        },
        "b789472d175749239addd42bb3105d67": {
          "model_module": "@jupyter-widgets/base",
          "model_name": "LayoutModel",
          "state": {
            "_view_name": "LayoutView",
            "grid_template_rows": null,
            "right": null,
            "justify_content": null,
            "_view_module": "@jupyter-widgets/base",
            "overflow": null,
            "_model_module_version": "1.2.0",
            "_view_count": null,
            "flex_flow": null,
            "width": null,
            "min_width": null,
            "border": null,
            "align_items": null,
            "bottom": null,
            "_model_module": "@jupyter-widgets/base",
            "top": null,
            "grid_column": null,
            "overflow_y": null,
            "overflow_x": null,
            "grid_auto_flow": null,
            "grid_area": null,
            "grid_template_columns": null,
            "flex": null,
            "_model_name": "LayoutModel",
            "justify_items": null,
            "grid_row": null,
            "max_height": null,
            "align_content": null,
            "visibility": null,
            "align_self": null,
            "height": null,
            "min_height": null,
            "padding": null,
            "grid_auto_rows": null,
            "grid_gap": null,
            "max_width": null,
            "order": null,
            "_view_module_version": "1.2.0",
            "grid_template_areas": null,
            "object_position": null,
            "object_fit": null,
            "grid_auto_columns": null,
            "margin": null,
            "display": null,
            "left": null
          }
        },
        "d1a1aff743e4485aaf8682c096a5a744": {
          "model_module": "@jupyter-widgets/controls",
          "model_name": "IntProgressModel",
          "state": {
            "_view_name": "ProgressView",
            "style": "IPY_MODEL_8e98234df9704eefaefc0d0783b68d38",
            "_dom_classes": [],
            "description": "",
            "_model_name": "IntProgressModel",
            "bar_style": "success",
            "max": 1,
            "_view_module": "@jupyter-widgets/controls",
            "_model_module_version": "1.5.0",
            "value": 1,
            "_view_count": null,
            "_view_module_version": "1.5.0",
            "orientation": "horizontal",
            "min": 0,
            "description_tooltip": null,
            "_model_module": "@jupyter-widgets/controls",
            "layout": "IPY_MODEL_fc83fd538dbe4e5e991466ede617a343"
          }
        },
        "3db0805ae08448da9c655758472fe2d4": {
          "model_module": "@jupyter-widgets/controls",
          "model_name": "HTMLModel",
          "state": {
            "_view_name": "HTMLView",
            "style": "IPY_MODEL_cfc33b44e5a44dd5af28fb8902e70275",
            "_dom_classes": [],
            "description": "",
            "_model_name": "HTMLModel",
            "placeholder": "​",
            "_view_module": "@jupyter-widgets/controls",
            "_model_module_version": "1.5.0",
            "value": " 32768/? [00:00&lt;00:00, 56047.36it/s]",
            "_view_count": null,
            "_view_module_version": "1.5.0",
            "description_tooltip": null,
            "_model_module": "@jupyter-widgets/controls",
            "layout": "IPY_MODEL_848ca4bf9dfe4c4ba9892439ae6d3799"
          }
        },
        "8e98234df9704eefaefc0d0783b68d38": {
          "model_module": "@jupyter-widgets/controls",
          "model_name": "ProgressStyleModel",
          "state": {
            "_view_name": "StyleView",
            "_model_name": "ProgressStyleModel",
            "description_width": "initial",
            "_view_module": "@jupyter-widgets/base",
            "_model_module_version": "1.5.0",
            "_view_count": null,
            "_view_module_version": "1.2.0",
            "bar_color": null,
            "_model_module": "@jupyter-widgets/controls"
          }
        },
        "fc83fd538dbe4e5e991466ede617a343": {
          "model_module": "@jupyter-widgets/base",
          "model_name": "LayoutModel",
          "state": {
            "_view_name": "LayoutView",
            "grid_template_rows": null,
            "right": null,
            "justify_content": null,
            "_view_module": "@jupyter-widgets/base",
            "overflow": null,
            "_model_module_version": "1.2.0",
            "_view_count": null,
            "flex_flow": null,
            "width": null,
            "min_width": null,
            "border": null,
            "align_items": null,
            "bottom": null,
            "_model_module": "@jupyter-widgets/base",
            "top": null,
            "grid_column": null,
            "overflow_y": null,
            "overflow_x": null,
            "grid_auto_flow": null,
            "grid_area": null,
            "grid_template_columns": null,
            "flex": null,
            "_model_name": "LayoutModel",
            "justify_items": null,
            "grid_row": null,
            "max_height": null,
            "align_content": null,
            "visibility": null,
            "align_self": null,
            "height": null,
            "min_height": null,
            "padding": null,
            "grid_auto_rows": null,
            "grid_gap": null,
            "max_width": null,
            "order": null,
            "_view_module_version": "1.2.0",
            "grid_template_areas": null,
            "object_position": null,
            "object_fit": null,
            "grid_auto_columns": null,
            "margin": null,
            "display": null,
            "left": null
          }
        },
        "cfc33b44e5a44dd5af28fb8902e70275": {
          "model_module": "@jupyter-widgets/controls",
          "model_name": "DescriptionStyleModel",
          "state": {
            "_view_name": "StyleView",
            "_model_name": "DescriptionStyleModel",
            "description_width": "",
            "_view_module": "@jupyter-widgets/base",
            "_model_module_version": "1.5.0",
            "_view_count": null,
            "_view_module_version": "1.2.0",
            "_model_module": "@jupyter-widgets/controls"
          }
        },
        "848ca4bf9dfe4c4ba9892439ae6d3799": {
          "model_module": "@jupyter-widgets/base",
          "model_name": "LayoutModel",
          "state": {
            "_view_name": "LayoutView",
            "grid_template_rows": null,
            "right": null,
            "justify_content": null,
            "_view_module": "@jupyter-widgets/base",
            "overflow": null,
            "_model_module_version": "1.2.0",
            "_view_count": null,
            "flex_flow": null,
            "width": null,
            "min_width": null,
            "border": null,
            "align_items": null,
            "bottom": null,
            "_model_module": "@jupyter-widgets/base",
            "top": null,
            "grid_column": null,
            "overflow_y": null,
            "overflow_x": null,
            "grid_auto_flow": null,
            "grid_area": null,
            "grid_template_columns": null,
            "flex": null,
            "_model_name": "LayoutModel",
            "justify_items": null,
            "grid_row": null,
            "max_height": null,
            "align_content": null,
            "visibility": null,
            "align_self": null,
            "height": null,
            "min_height": null,
            "padding": null,
            "grid_auto_rows": null,
            "grid_gap": null,
            "max_width": null,
            "order": null,
            "_view_module_version": "1.2.0",
            "grid_template_areas": null,
            "object_position": null,
            "object_fit": null,
            "grid_auto_columns": null,
            "margin": null,
            "display": null,
            "left": null
          }
        },
        "a5a4632ef5074c36910776516eb68b2f": {
          "model_module": "@jupyter-widgets/controls",
          "model_name": "HBoxModel",
          "state": {
            "_view_name": "HBoxView",
            "_dom_classes": [],
            "_model_name": "HBoxModel",
            "_view_module": "@jupyter-widgets/controls",
            "_model_module_version": "1.5.0",
            "_view_count": null,
            "_view_module_version": "1.5.0",
            "box_style": "",
            "layout": "IPY_MODEL_8737619f736342d6a1d9ab366fa88141",
            "_model_module": "@jupyter-widgets/controls",
            "children": [
              "IPY_MODEL_c7ab13d4f3e249f19b58cd9c5f04f1b4",
              "IPY_MODEL_9ab986ad6e5544f0933da537e18aab54"
            ]
          }
        },
        "8737619f736342d6a1d9ab366fa88141": {
          "model_module": "@jupyter-widgets/base",
          "model_name": "LayoutModel",
          "state": {
            "_view_name": "LayoutView",
            "grid_template_rows": null,
            "right": null,
            "justify_content": null,
            "_view_module": "@jupyter-widgets/base",
            "overflow": null,
            "_model_module_version": "1.2.0",
            "_view_count": null,
            "flex_flow": null,
            "width": null,
            "min_width": null,
            "border": null,
            "align_items": null,
            "bottom": null,
            "_model_module": "@jupyter-widgets/base",
            "top": null,
            "grid_column": null,
            "overflow_y": null,
            "overflow_x": null,
            "grid_auto_flow": null,
            "grid_area": null,
            "grid_template_columns": null,
            "flex": null,
            "_model_name": "LayoutModel",
            "justify_items": null,
            "grid_row": null,
            "max_height": null,
            "align_content": null,
            "visibility": null,
            "align_self": null,
            "height": null,
            "min_height": null,
            "padding": null,
            "grid_auto_rows": null,
            "grid_gap": null,
            "max_width": null,
            "order": null,
            "_view_module_version": "1.2.0",
            "grid_template_areas": null,
            "object_position": null,
            "object_fit": null,
            "grid_auto_columns": null,
            "margin": null,
            "display": null,
            "left": null
          }
        },
        "c7ab13d4f3e249f19b58cd9c5f04f1b4": {
          "model_module": "@jupyter-widgets/controls",
          "model_name": "IntProgressModel",
          "state": {
            "_view_name": "ProgressView",
            "style": "IPY_MODEL_85585b3c590c40c99ec960b5ae7443af",
            "_dom_classes": [],
            "description": "",
            "_model_name": "IntProgressModel",
            "bar_style": "info",
            "max": 1,
            "_view_module": "@jupyter-widgets/controls",
            "_model_module_version": "1.5.0",
            "value": 1,
            "_view_count": null,
            "_view_module_version": "1.5.0",
            "orientation": "horizontal",
            "min": 0,
            "description_tooltip": null,
            "_model_module": "@jupyter-widgets/controls",
            "layout": "IPY_MODEL_71e767e10700459992a54c33d55b05af"
          }
        },
        "9ab986ad6e5544f0933da537e18aab54": {
          "model_module": "@jupyter-widgets/controls",
          "model_name": "HTMLModel",
          "state": {
            "_view_name": "HTMLView",
            "style": "IPY_MODEL_a6de0b80808843d7b1b1f3282e76f957",
            "_dom_classes": [],
            "description": "",
            "_model_name": "HTMLModel",
            "placeholder": "​",
            "_view_module": "@jupyter-widgets/controls",
            "_model_module_version": "1.5.0",
            "value": " 1654784/? [00:16&lt;00:00, 1340851.84it/s]",
            "_view_count": null,
            "_view_module_version": "1.5.0",
            "description_tooltip": null,
            "_model_module": "@jupyter-widgets/controls",
            "layout": "IPY_MODEL_4efe1e8f3001450b8fda461912c6c52a"
          }
        },
        "85585b3c590c40c99ec960b5ae7443af": {
          "model_module": "@jupyter-widgets/controls",
          "model_name": "ProgressStyleModel",
          "state": {
            "_view_name": "StyleView",
            "_model_name": "ProgressStyleModel",
            "description_width": "initial",
            "_view_module": "@jupyter-widgets/base",
            "_model_module_version": "1.5.0",
            "_view_count": null,
            "_view_module_version": "1.2.0",
            "bar_color": null,
            "_model_module": "@jupyter-widgets/controls"
          }
        },
        "71e767e10700459992a54c33d55b05af": {
          "model_module": "@jupyter-widgets/base",
          "model_name": "LayoutModel",
          "state": {
            "_view_name": "LayoutView",
            "grid_template_rows": null,
            "right": null,
            "justify_content": null,
            "_view_module": "@jupyter-widgets/base",
            "overflow": null,
            "_model_module_version": "1.2.0",
            "_view_count": null,
            "flex_flow": null,
            "width": null,
            "min_width": null,
            "border": null,
            "align_items": null,
            "bottom": null,
            "_model_module": "@jupyter-widgets/base",
            "top": null,
            "grid_column": null,
            "overflow_y": null,
            "overflow_x": null,
            "grid_auto_flow": null,
            "grid_area": null,
            "grid_template_columns": null,
            "flex": null,
            "_model_name": "LayoutModel",
            "justify_items": null,
            "grid_row": null,
            "max_height": null,
            "align_content": null,
            "visibility": null,
            "align_self": null,
            "height": null,
            "min_height": null,
            "padding": null,
            "grid_auto_rows": null,
            "grid_gap": null,
            "max_width": null,
            "order": null,
            "_view_module_version": "1.2.0",
            "grid_template_areas": null,
            "object_position": null,
            "object_fit": null,
            "grid_auto_columns": null,
            "margin": null,
            "display": null,
            "left": null
          }
        },
        "a6de0b80808843d7b1b1f3282e76f957": {
          "model_module": "@jupyter-widgets/controls",
          "model_name": "DescriptionStyleModel",
          "state": {
            "_view_name": "StyleView",
            "_model_name": "DescriptionStyleModel",
            "description_width": "",
            "_view_module": "@jupyter-widgets/base",
            "_model_module_version": "1.5.0",
            "_view_count": null,
            "_view_module_version": "1.2.0",
            "_model_module": "@jupyter-widgets/controls"
          }
        },
        "4efe1e8f3001450b8fda461912c6c52a": {
          "model_module": "@jupyter-widgets/base",
          "model_name": "LayoutModel",
          "state": {
            "_view_name": "LayoutView",
            "grid_template_rows": null,
            "right": null,
            "justify_content": null,
            "_view_module": "@jupyter-widgets/base",
            "overflow": null,
            "_model_module_version": "1.2.0",
            "_view_count": null,
            "flex_flow": null,
            "width": null,
            "min_width": null,
            "border": null,
            "align_items": null,
            "bottom": null,
            "_model_module": "@jupyter-widgets/base",
            "top": null,
            "grid_column": null,
            "overflow_y": null,
            "overflow_x": null,
            "grid_auto_flow": null,
            "grid_area": null,
            "grid_template_columns": null,
            "flex": null,
            "_model_name": "LayoutModel",
            "justify_items": null,
            "grid_row": null,
            "max_height": null,
            "align_content": null,
            "visibility": null,
            "align_self": null,
            "height": null,
            "min_height": null,
            "padding": null,
            "grid_auto_rows": null,
            "grid_gap": null,
            "max_width": null,
            "order": null,
            "_view_module_version": "1.2.0",
            "grid_template_areas": null,
            "object_position": null,
            "object_fit": null,
            "grid_auto_columns": null,
            "margin": null,
            "display": null,
            "left": null
          }
        },
        "3ea1f8d2ddf34a21b4a027a70002d235": {
          "model_module": "@jupyter-widgets/controls",
          "model_name": "HBoxModel",
          "state": {
            "_view_name": "HBoxView",
            "_dom_classes": [],
            "_model_name": "HBoxModel",
            "_view_module": "@jupyter-widgets/controls",
            "_model_module_version": "1.5.0",
            "_view_count": null,
            "_view_module_version": "1.5.0",
            "box_style": "",
            "layout": "IPY_MODEL_1622d8bbbb3b4c0f9a03412b540dd2c4",
            "_model_module": "@jupyter-widgets/controls",
            "children": [
              "IPY_MODEL_8613a7986f044e76ab94f2fc25e4d1d3",
              "IPY_MODEL_bde8cf3512d7458481fc79bda3a0f322"
            ]
          }
        },
        "1622d8bbbb3b4c0f9a03412b540dd2c4": {
          "model_module": "@jupyter-widgets/base",
          "model_name": "LayoutModel",
          "state": {
            "_view_name": "LayoutView",
            "grid_template_rows": null,
            "right": null,
            "justify_content": null,
            "_view_module": "@jupyter-widgets/base",
            "overflow": null,
            "_model_module_version": "1.2.0",
            "_view_count": null,
            "flex_flow": null,
            "width": null,
            "min_width": null,
            "border": null,
            "align_items": null,
            "bottom": null,
            "_model_module": "@jupyter-widgets/base",
            "top": null,
            "grid_column": null,
            "overflow_y": null,
            "overflow_x": null,
            "grid_auto_flow": null,
            "grid_area": null,
            "grid_template_columns": null,
            "flex": null,
            "_model_name": "LayoutModel",
            "justify_items": null,
            "grid_row": null,
            "max_height": null,
            "align_content": null,
            "visibility": null,
            "align_self": null,
            "height": null,
            "min_height": null,
            "padding": null,
            "grid_auto_rows": null,
            "grid_gap": null,
            "max_width": null,
            "order": null,
            "_view_module_version": "1.2.0",
            "grid_template_areas": null,
            "object_position": null,
            "object_fit": null,
            "grid_auto_columns": null,
            "margin": null,
            "display": null,
            "left": null
          }
        },
        "8613a7986f044e76ab94f2fc25e4d1d3": {
          "model_module": "@jupyter-widgets/controls",
          "model_name": "IntProgressModel",
          "state": {
            "_view_name": "ProgressView",
            "style": "IPY_MODEL_095538e444f547b7b7846016fb01fd47",
            "_dom_classes": [],
            "description": "  0%",
            "_model_name": "IntProgressModel",
            "bar_style": "info",
            "max": 1,
            "_view_module": "@jupyter-widgets/controls",
            "_model_module_version": "1.5.0",
            "value": 0,
            "_view_count": null,
            "_view_module_version": "1.5.0",
            "orientation": "horizontal",
            "min": 0,
            "description_tooltip": null,
            "_model_module": "@jupyter-widgets/controls",
            "layout": "IPY_MODEL_88f4044c26c6476f86c7e39e34d42425"
          }
        },
        "bde8cf3512d7458481fc79bda3a0f322": {
          "model_module": "@jupyter-widgets/controls",
          "model_name": "HTMLModel",
          "state": {
            "_view_name": "HTMLView",
            "style": "IPY_MODEL_4b9f9810908b41a895754e9d5f2c87c0",
            "_dom_classes": [],
            "description": "",
            "_model_name": "HTMLModel",
            "placeholder": "​",
            "_view_module": "@jupyter-widgets/controls",
            "_model_module_version": "1.5.0",
            "value": " 0/4542 [00:01&lt;?, ?it/s]",
            "_view_count": null,
            "_view_module_version": "1.5.0",
            "description_tooltip": null,
            "_model_module": "@jupyter-widgets/controls",
            "layout": "IPY_MODEL_38a70b2ce328449baf0e7a58f4aeb863"
          }
        },
        "095538e444f547b7b7846016fb01fd47": {
          "model_module": "@jupyter-widgets/controls",
          "model_name": "ProgressStyleModel",
          "state": {
            "_view_name": "StyleView",
            "_model_name": "ProgressStyleModel",
            "description_width": "initial",
            "_view_module": "@jupyter-widgets/base",
            "_model_module_version": "1.5.0",
            "_view_count": null,
            "_view_module_version": "1.2.0",
            "bar_color": null,
            "_model_module": "@jupyter-widgets/controls"
          }
        },
        "88f4044c26c6476f86c7e39e34d42425": {
          "model_module": "@jupyter-widgets/base",
          "model_name": "LayoutModel",
          "state": {
            "_view_name": "LayoutView",
            "grid_template_rows": null,
            "right": null,
            "justify_content": null,
            "_view_module": "@jupyter-widgets/base",
            "overflow": null,
            "_model_module_version": "1.2.0",
            "_view_count": null,
            "flex_flow": null,
            "width": null,
            "min_width": null,
            "border": null,
            "align_items": null,
            "bottom": null,
            "_model_module": "@jupyter-widgets/base",
            "top": null,
            "grid_column": null,
            "overflow_y": null,
            "overflow_x": null,
            "grid_auto_flow": null,
            "grid_area": null,
            "grid_template_columns": null,
            "flex": null,
            "_model_name": "LayoutModel",
            "justify_items": null,
            "grid_row": null,
            "max_height": null,
            "align_content": null,
            "visibility": null,
            "align_self": null,
            "height": null,
            "min_height": null,
            "padding": null,
            "grid_auto_rows": null,
            "grid_gap": null,
            "max_width": null,
            "order": null,
            "_view_module_version": "1.2.0",
            "grid_template_areas": null,
            "object_position": null,
            "object_fit": null,
            "grid_auto_columns": null,
            "margin": null,
            "display": null,
            "left": null
          }
        },
        "4b9f9810908b41a895754e9d5f2c87c0": {
          "model_module": "@jupyter-widgets/controls",
          "model_name": "DescriptionStyleModel",
          "state": {
            "_view_name": "StyleView",
            "_model_name": "DescriptionStyleModel",
            "description_width": "",
            "_view_module": "@jupyter-widgets/base",
            "_model_module_version": "1.5.0",
            "_view_count": null,
            "_view_module_version": "1.2.0",
            "_model_module": "@jupyter-widgets/controls"
          }
        },
        "38a70b2ce328449baf0e7a58f4aeb863": {
          "model_module": "@jupyter-widgets/base",
          "model_name": "LayoutModel",
          "state": {
            "_view_name": "LayoutView",
            "grid_template_rows": null,
            "right": null,
            "justify_content": null,
            "_view_module": "@jupyter-widgets/base",
            "overflow": null,
            "_model_module_version": "1.2.0",
            "_view_count": null,
            "flex_flow": null,
            "width": null,
            "min_width": null,
            "border": null,
            "align_items": null,
            "bottom": null,
            "_model_module": "@jupyter-widgets/base",
            "top": null,
            "grid_column": null,
            "overflow_y": null,
            "overflow_x": null,
            "grid_auto_flow": null,
            "grid_area": null,
            "grid_template_columns": null,
            "flex": null,
            "_model_name": "LayoutModel",
            "justify_items": null,
            "grid_row": null,
            "max_height": null,
            "align_content": null,
            "visibility": null,
            "align_self": null,
            "height": null,
            "min_height": null,
            "padding": null,
            "grid_auto_rows": null,
            "grid_gap": null,
            "max_width": null,
            "order": null,
            "_view_module_version": "1.2.0",
            "grid_template_areas": null,
            "object_position": null,
            "object_fit": null,
            "grid_auto_columns": null,
            "margin": null,
            "display": null,
            "left": null
          }
        }
      }
    }
  },
  "cells": [
    {
      "cell_type": "code",
      "metadata": {
        "id": "7DQTFAhoFwX8",
        "colab_type": "code",
        "colab": {}
      },
      "source": [
        "import torch # PyTorch \n",
        "from torchvision import datasets # Datasets module \n",
        "import torchvision.transforms as transforms # Image Transforms \n",
        "from torch.utils.data.sampler import SubsetRandomSampler # Sampler "
      ],
      "execution_count": 0,
      "outputs": []
    },
    {
      "cell_type": "code",
      "metadata": {
        "id": "lbO06PeAGKcl",
        "colab_type": "code",
        "colab": {}
      },
      "source": [
        "import numpy as np\n",
        "import pandas as pd"
      ],
      "execution_count": 0,
      "outputs": []
    },
    {
      "cell_type": "code",
      "metadata": {
        "id": "y3Fc-C5eGOmF",
        "colab_type": "code",
        "colab": {
          "base_uri": "https://localhost:8080/",
          "height": 338,
          "referenced_widgets": [
            "f6ed50664ccc4c53bcd272bd8a8b22d6",
            "187e237ae95b4a469e93ba023431b205",
            "e95142f6b3594f878e40b57c5cf75dbf",
            "b492eb3594cd4a49893ce36f77ce2e2b",
            "fd541af349b64918a53d3a3ced85163a",
            "88a98197cb914b808e3bf45c18193a78",
            "fe14f7284b1e4896bc0c06bb7c6ba9a1",
            "4dbed2f93ba74156ab4846e7d84bd9bf",
            "ca45434111274ebd9aa653cf2f69b67a",
            "b789472d175749239addd42bb3105d67",
            "d1a1aff743e4485aaf8682c096a5a744",
            "3db0805ae08448da9c655758472fe2d4",
            "8e98234df9704eefaefc0d0783b68d38",
            "fc83fd538dbe4e5e991466ede617a343",
            "cfc33b44e5a44dd5af28fb8902e70275",
            "848ca4bf9dfe4c4ba9892439ae6d3799",
            "a5a4632ef5074c36910776516eb68b2f",
            "8737619f736342d6a1d9ab366fa88141",
            "c7ab13d4f3e249f19b58cd9c5f04f1b4",
            "9ab986ad6e5544f0933da537e18aab54",
            "85585b3c590c40c99ec960b5ae7443af",
            "71e767e10700459992a54c33d55b05af",
            "a6de0b80808843d7b1b1f3282e76f957",
            "4efe1e8f3001450b8fda461912c6c52a",
            "3ea1f8d2ddf34a21b4a027a70002d235",
            "1622d8bbbb3b4c0f9a03412b540dd2c4",
            "8613a7986f044e76ab94f2fc25e4d1d3",
            "bde8cf3512d7458481fc79bda3a0f322",
            "095538e444f547b7b7846016fb01fd47",
            "88f4044c26c6476f86c7e39e34d42425",
            "4b9f9810908b41a895754e9d5f2c87c0",
            "38a70b2ce328449baf0e7a58f4aeb863"
          ]
        },
        "outputId": "fbfa1a88-0437-4dae-f969-4838e4df00b9"
      },
      "source": [
        "# convert data to torch.FloatTensor\n",
        "transform = transforms.ToTensor()\n",
        "\n",
        "# choose the training and test datasets\n",
        "train_data = datasets.MNIST(root = 'data', train = True, download = True, \\\n",
        "                            transform = transform)\n",
        "test_data = datasets.MNIST(root = 'data', train = False, download = True,\\\n",
        "                           transform = transform)"
      ],
      "execution_count": 3,
      "outputs": [
        {
          "output_type": "stream",
          "text": [
            "Downloading http://yann.lecun.com/exdb/mnist/train-images-idx3-ubyte.gz to data/MNIST/raw/train-images-idx3-ubyte.gz\n"
          ],
          "name": "stdout"
        },
        {
          "output_type": "display_data",
          "data": {
            "application/vnd.jupyter.widget-view+json": {
              "model_id": "f6ed50664ccc4c53bcd272bd8a8b22d6",
              "version_minor": 0,
              "version_major": 2
            },
            "text/plain": [
              "HBox(children=(IntProgress(value=1, bar_style='info', max=1), HTML(value='')))"
            ]
          },
          "metadata": {
            "tags": []
          }
        },
        {
          "output_type": "stream",
          "text": [
            "Extracting data/MNIST/raw/train-images-idx3-ubyte.gz to data/MNIST/raw\n",
            "Downloading http://yann.lecun.com/exdb/mnist/train-labels-idx1-ubyte.gz to data/MNIST/raw/train-labels-idx1-ubyte.gz\n"
          ],
          "name": "stdout"
        },
        {
          "output_type": "display_data",
          "data": {
            "application/vnd.jupyter.widget-view+json": {
              "model_id": "ca45434111274ebd9aa653cf2f69b67a",
              "version_minor": 0,
              "version_major": 2
            },
            "text/plain": [
              "HBox(children=(IntProgress(value=1, bar_style='info', max=1), HTML(value='')))"
            ]
          },
          "metadata": {
            "tags": []
          }
        },
        {
          "output_type": "stream",
          "text": [
            "Extracting data/MNIST/raw/train-labels-idx1-ubyte.gz to data/MNIST/raw\n",
            "Downloading http://yann.lecun.com/exdb/mnist/t10k-images-idx3-ubyte.gz to data/MNIST/raw/t10k-images-idx3-ubyte.gz\n",
            "\n"
          ],
          "name": "stdout"
        },
        {
          "output_type": "display_data",
          "data": {
            "application/vnd.jupyter.widget-view+json": {
              "model_id": "a5a4632ef5074c36910776516eb68b2f",
              "version_minor": 0,
              "version_major": 2
            },
            "text/plain": [
              "HBox(children=(IntProgress(value=1, bar_style='info', max=1), HTML(value='')))"
            ]
          },
          "metadata": {
            "tags": []
          }
        },
        {
          "output_type": "stream",
          "text": [
            "Extracting data/MNIST/raw/t10k-images-idx3-ubyte.gz to data/MNIST/raw\n",
            "Downloading http://yann.lecun.com/exdb/mnist/t10k-labels-idx1-ubyte.gz to data/MNIST/raw/t10k-labels-idx1-ubyte.gz\n"
          ],
          "name": "stdout"
        },
        {
          "output_type": "display_data",
          "data": {
            "application/vnd.jupyter.widget-view+json": {
              "model_id": "3ea1f8d2ddf34a21b4a027a70002d235",
              "version_minor": 0,
              "version_major": 2
            },
            "text/plain": [
              "HBox(children=(IntProgress(value=1, bar_style='info', max=1), HTML(value='')))"
            ]
          },
          "metadata": {
            "tags": []
          }
        },
        {
          "output_type": "stream",
          "text": [
            "Extracting data/MNIST/raw/t10k-labels-idx1-ubyte.gz to data/MNIST/raw\n",
            "Processing...\n",
            "Done!\n"
          ],
          "name": "stdout"
        }
      ]
    },
    {
      "cell_type": "code",
      "metadata": {
        "id": "WTS8vyq8Gegj",
        "colab_type": "code",
        "colab": {
          "base_uri": "https://localhost:8080/",
          "height": 52
        },
        "outputId": "281d1a34-f557-4d5c-bb25-030a1e7fe44d"
      },
      "source": [
        "num_train = len(train_data)\n",
        "print('num_train', num_train)\n",
        "indices = list(range(num_train))\n",
        "print(len(indices))"
      ],
      "execution_count": 4,
      "outputs": [
        {
          "output_type": "stream",
          "text": [
            "num_train 60000\n",
            "60000\n"
          ],
          "name": "stdout"
        }
      ]
    },
    {
      "cell_type": "code",
      "metadata": {
        "id": "Ftu9JFKNGjy6",
        "colab_type": "code",
        "colab": {}
      },
      "source": [
        "np.random.shuffle(indices)"
      ],
      "execution_count": 0,
      "outputs": []
    },
    {
      "cell_type": "code",
      "metadata": {
        "id": "-un_WWqzGqPv",
        "colab_type": "code",
        "colab": {
          "base_uri": "https://localhost:8080/",
          "height": 52
        },
        "outputId": "50502905-3ea9-4953-9e9e-fca96d546e5b"
      },
      "source": [
        "valid_size = 0.2\n",
        "split = int(np.floor(valid_size*num_train))\n",
        "train_idx, valid_idx = indices[split:], indices[:split]\n",
        "print(len(train_idx))\n",
        "print(len(valid_idx))"
      ],
      "execution_count": 6,
      "outputs": [
        {
          "output_type": "stream",
          "text": [
            "48000\n",
            "12000\n"
          ],
          "name": "stdout"
        }
      ]
    },
    {
      "cell_type": "code",
      "metadata": {
        "id": "aTJ1E92dGuM8",
        "colab_type": "code",
        "colab": {}
      },
      "source": [
        "train_sampler = SubsetRandomSampler(train_idx)\n",
        "valid_sampler = SubsetRandomSampler(valid_idx)\n",
        "# prepare dataloaders\n",
        "# number of subprocesses to use for data loading\n",
        "num_workers = 0 # do not modify \n",
        "# how many samples per batch to load\n",
        "batch_size = 20 # ie 20 images per batch \n",
        "\n",
        "# Training Set \n",
        "train_loader = torch.utils.data.DataLoader(dataset=train_data, \\\n",
        "                                           batch_size=batch_size, \\\n",
        "                                           sampler=train_sampler, \\\n",
        "                                           num_workers=num_workers)\n",
        "# Validation Set \n",
        "valid_loader = torch.utils.data.DataLoader(dataset=train_data,\\\n",
        "                                           batch_size=batch_size, \\\n",
        "                                           sampler = valid_sampler, \\\n",
        "                                           num_workers = num_workers)\n",
        "\n",
        "# Test Set \n",
        "test_loader = torch.utils.data.DataLoader(dataset=test_data,\\\n",
        "                                           batch_size=batch_size, \\\n",
        "                                           num_workers = num_workers)"
      ],
      "execution_count": 0,
      "outputs": []
    },
    {
      "cell_type": "code",
      "metadata": {
        "id": "OTJvHW1NG2yb",
        "colab_type": "code",
        "colab": {
          "base_uri": "https://localhost:8080/",
          "height": 140
        },
        "outputId": "c3192b8e-cff0-44ce-e098-dcc9426a6760"
      },
      "source": [
        "# Visualize a whole batch of data from the dataloaders \n",
        "\n",
        "dataider = iter(train_loader)\n",
        "images, labels = dataider.next()\n",
        "\n",
        "print(len(images), len(labels)) # Should be equal to the batch size, 20\n",
        "print('Correct Labels: ', labels)\n",
        "images = images.numpy() # Convert the images to numpy array for matplotlib\n",
        "print('Shape of our images batch =', images.shape)\n",
        "print('Batch Size =', images.shape[0], 'Image Height/Width =', \\\n",
        "                                                        images.shape[2])\n",
        "\n",
        "print()\n",
        "print('Squeezing the images tensor =', np.squeeze(images).shape)\n",
        "print('Un-squeezing the images tensor (axis=3) =', \\\n",
        "                                        np.expand_dims(images, axis=3).shape)"
      ],
      "execution_count": 8,
      "outputs": [
        {
          "output_type": "stream",
          "text": [
            "20 20\n",
            "Correct Labels:  tensor([3, 0, 7, 8, 1, 3, 2, 0, 1, 4, 7, 0, 9, 6, 2, 8, 8, 3, 1, 5])\n",
            "Shape of our images batch = (20, 1, 28, 28)\n",
            "Batch Size = 20 Image Height/Width = 28\n",
            "\n",
            "Squeezing the images tensor = (20, 28, 28)\n",
            "Un-squeezing the images tensor (axis=3) = (20, 1, 28, 1, 28)\n"
          ],
          "name": "stdout"
        }
      ]
    },
    {
      "cell_type": "code",
      "metadata": {
        "id": "nmJBCDYJG9aX",
        "colab_type": "code",
        "colab": {}
      },
      "source": [
        "import matplotlib.pyplot as plt \n",
        "# Plots are plotted inside the notebooks, 'inline'\n",
        "%matplotlib inline "
      ],
      "execution_count": 0,
      "outputs": []
    },
    {
      "cell_type": "code",
      "metadata": {
        "id": "StF5GLO4HAPD",
        "colab_type": "code",
        "colab": {
          "base_uri": "https://localhost:8080/",
          "height": 268
        },
        "outputId": "4707609f-48a6-4940-b032-7a895ceeb5f1"
      },
      "source": [
        "# Plot the whole batch \n",
        "fig = plt.figure(figsize=(25, 4))\n",
        "# Loop over all the images in the batch(20)\n",
        "for idx in np.arange(20):\n",
        "    # Add a subplot for the image \n",
        "    ax = fig.add_subplot(2, 20/2, idx+1, xticks=[], yticks=[])\n",
        "    # Populate the subplot with the image \n",
        "    ax.imshow(np.squeeze(images[idx]), cmap='gray')\n",
        "    # print out the correct label for each image\n",
        "    # .item() gets the value contained in a Tensor\n",
        "    ax.set_title(str(labels[idx].item()))"
      ],
      "execution_count": 10,
      "outputs": [
        {
          "output_type": "display_data",
          "data": {
            "image/png": "[encoded data removed]",
            "text/plain": [
              "<Figure size 1800x288 with 20 Axes>"
            ]
          },
          "metadata": {
            "tags": []
          }
        }
      ]
    },
    {
      "cell_type": "code",
      "metadata": {
        "id": "iLKKZi8uHF09",
        "colab_type": "code",
        "colab": {
          "base_uri": "https://localhost:8080/",
          "height": 527
        },
        "outputId": "0f4061e0-875a-49fd-fb35-5bbcb168b9d4"
      },
      "source": [
        "# Just for fun! \n",
        "\n",
        "dataiter = iter(train_loader)  \n",
        "images, labels = dataiter.next() \n",
        "images = images.numpy() \n",
        "np.set_printoptions(precision=2, threshold=None, edgeitems=None, \\\n",
        "                    linewidth=180, suppress=None)\n",
        "print('Label', labels[0])\n",
        "print(images[0])"
      ],
      "execution_count": 11,
      "outputs": [
        {
          "output_type": "stream",
          "text": [
            "Label tensor(0)\n",
            "[[[0.   0.   0.   0.   0.   0.   0.   0.   0.   0.   0.   0.   0.   0.   0.   0.   0.   0.   0.   0.   0.   0.   0.   0.   0.   0.   0.   0.  ]\n",
            "  [0.   0.   0.   0.   0.   0.   0.   0.   0.   0.   0.   0.   0.   0.   0.   0.   0.   0.   0.   0.   0.   0.   0.   0.   0.   0.   0.   0.  ]\n",
            "  [0.   0.   0.   0.   0.   0.   0.   0.   0.   0.   0.   0.   0.   0.   0.   0.   0.   0.   0.   0.   0.   0.   0.   0.   0.   0.   0.   0.  ]\n",
            "  [0.   0.   0.   0.   0.   0.   0.   0.   0.   0.   0.   0.   0.   0.   0.   0.   0.   0.   0.   0.   0.   0.   0.   0.   0.   0.   0.   0.  ]\n",
            "  [0.   0.   0.   0.   0.   0.   0.   0.   0.   0.   0.   0.   0.   0.   0.   0.   0.   0.   0.   0.   0.14 0.34 0.57 0.17 0.03 0.   0.   0.  ]\n",
            "  [0.   0.   0.   0.   0.   0.   0.   0.   0.   0.   0.   0.   0.   0.   0.   0.   0.   0.17 0.33 0.33 0.88 0.55 0.98 0.98 0.16 0.   0.   0.  ]\n",
            "  [0.   0.   0.   0.   0.   0.   0.   0.   0.   0.   0.   0.   0.   0.   0.   0.5  0.5  0.74 0.98 0.98 0.99 0.98 0.98 0.98 0.16 0.   0.   0.  ]\n",
            "  [0.   0.   0.   0.   0.   0.   0.   0.   0.   0.   0.   0.   0.   0.   0.55 0.99 0.98 0.98 0.98 0.98 0.99 0.98 0.98 0.98 0.16 0.   0.   0.  ]\n",
            "  [0.   0.   0.   0.   0.   0.   0.   0.   0.   0.   0.   0.   0.   0.55 0.96 0.99 0.98 0.98 0.98 0.98 0.99 0.98 0.98 0.98 0.16 0.   0.   0.  ]\n",
            "  [0.   0.   0.   0.   0.   0.   0.   0.   0.   0.   0.03 0.44 0.99 0.99 0.99 1.   0.93 0.82 0.27 0.   1.   0.99 0.99 0.88 0.13 0.   0.   0.  ]\n",
            "  [0.   0.   0.   0.   0.   0.   0.   0.   0.   0.   0.44 0.98 0.98 0.98 0.98 0.93 0.44 0.   0.   0.28 0.99 0.98 0.82 0.22 0.   0.   0.   0.  ]\n",
            "  [0.   0.   0.   0.   0.   0.   0.   0.   0.   0.42 0.99 0.98 0.98 0.98 0.98 0.41 0.   0.   0.   0.82 0.99 0.82 0.24 0.   0.   0.   0.   0.  ]\n",
            "  [0.   0.   0.   0.   0.   0.   0.   0.   0.   0.82 0.99 0.98 0.98 0.98 0.43 0.   0.   0.   0.   0.82 0.88 0.22 0.   0.   0.   0.   0.   0.  ]\n",
            "  [0.   0.   0.   0.   0.   0.   0.   0.   0.55 0.96 0.99 0.98 0.98 0.98 0.16 0.   0.   0.   0.55 0.96 0.13 0.   0.   0.   0.   0.   0.   0.  ]\n",
            "  [0.   0.   0.   0.   0.   0.   0.   0.5  0.99 0.99 1.   0.99 0.99 0.33 0.   0.03 0.44 0.99 0.99 0.16 0.   0.   0.   0.   0.   0.   0.   0.  ]\n",
            "  [0.   0.   0.   0.   0.   0.   0.11 0.66 0.98 0.98 0.99 0.98 0.82 0.22 0.   0.44 0.98 0.98 0.98 0.16 0.   0.   0.   0.   0.   0.   0.   0.  ]\n",
            "  [0.   0.   0.   0.   0.   0.   0.33 0.98 0.98 0.98 0.99 0.82 0.24 0.   0.42 0.99 0.98 0.98 0.98 0.16 0.   0.   0.   0.   0.   0.   0.   0.  ]\n",
            "  [0.   0.   0.   0.   0.   0.   0.33 0.98 0.98 0.98 0.99 0.65 0.   0.45 0.93 0.99 0.98 0.98 0.98 0.16 0.   0.   0.   0.   0.   0.   0.   0.  ]\n",
            "  [0.   0.   0.   0.   0.   0.   0.33 0.98 0.98 0.98 0.99 0.93 0.82 0.93 0.98 0.99 0.98 0.98 0.43 0.03 0.   0.   0.   0.   0.   0.   0.   0.  ]\n",
            "  [0.   0.   0.   0.   0.   0.   0.33 0.99 0.99 0.99 1.   0.99 0.99 0.99 0.99 1.   0.93 0.41 0.   0.   0.   0.   0.   0.   0.   0.   0.   0.  ]\n",
            "  [0.   0.   0.   0.   0.   0.34 0.55 0.98 0.98 0.98 0.99 0.98 0.98 0.98 0.98 0.93 0.44 0.   0.   0.   0.   0.   0.   0.   0.   0.   0.   0.  ]\n",
            "  [0.   0.   0.   0.   0.   0.57 0.98 0.98 0.98 0.98 0.99 0.98 0.98 0.98 0.56 0.41 0.   0.   0.   0.   0.   0.   0.   0.   0.   0.   0.   0.  ]\n",
            "  [0.   0.   0.   0.   0.   0.05 0.54 0.98 0.98 0.98 0.99 0.76 0.33 0.33 0.05 0.   0.   0.   0.   0.   0.   0.   0.   0.   0.   0.   0.   0.  ]\n",
            "  [0.   0.   0.   0.   0.   0.   0.33 0.98 0.98 0.29 0.16 0.11 0.   0.   0.   0.   0.   0.   0.   0.   0.   0.   0.   0.   0.   0.   0.   0.  ]\n",
            "  [0.   0.   0.   0.   0.   0.   0.   0.   0.   0.   0.   0.   0.   0.   0.   0.   0.   0.   0.   0.   0.   0.   0.   0.   0.   0.   0.   0.  ]\n",
            "  [0.   0.   0.   0.   0.   0.   0.   0.   0.   0.   0.   0.   0.   0.   0.   0.   0.   0.   0.   0.   0.   0.   0.   0.   0.   0.   0.   0.  ]\n",
            "  [0.   0.   0.   0.   0.   0.   0.   0.   0.   0.   0.   0.   0.   0.   0.   0.   0.   0.   0.   0.   0.   0.   0.   0.   0.   0.   0.   0.  ]\n",
            "  [0.   0.   0.   0.   0.   0.   0.   0.   0.   0.   0.   0.   0.   0.   0.   0.   0.   0.   0.   0.   0.   0.   0.   0.   0.   0.   0.   0.  ]]]\n"
          ],
          "name": "stdout"
        }
      ]
    },
    {
      "cell_type": "code",
      "metadata": {
        "id": "hMDY2oKAHLFj",
        "colab_type": "code",
        "colab": {}
      },
      "source": [
        "import torch.nn as nn\n",
        "import torch.nn.functional as F"
      ],
      "execution_count": 0,
      "outputs": []
    },
    {
      "cell_type": "code",
      "metadata": {
        "id": "Y-3IPWHcHU-2",
        "colab_type": "code",
        "colab": {}
      },
      "source": [
        "class MNISTModel1(nn.Module):\n",
        "    # Here we define the neural architecture \n",
        "    def __init__(self):\n",
        "        super(MNISTModel1, self).__init__() # Initialize the nn module \n",
        "\n",
        "        self.conv1 = nn.Conv2d(in_channels = 1, out_channels = 8, kernel_size = 3,\\\n",
        "                               stride = 1, padding = 1)\n",
        "        self.conv2 = nn.Conv2d(in_channels = 8, out_channels = 16, kernel_size = 3,\\\n",
        "                               stride = 1, padding = 1)\n",
        "\n",
        "        self.linear1 = nn.Linear(in_features = 12544, out_features = 256)\n",
        "        self.linear2 = nn.Linear(in_features = 256, out_features = 64)\n",
        "        self.linear3 = nn.Linear(in_features = 64, out_features = 10)\n",
        "        self.dropout = nn.Dropout(p = 0.25)\n",
        "\n",
        "    # Here we define the 'forward behaviour' of our neural architecture \n",
        "    def forward(self, image_batch):\n",
        "        image_batch = F.relu(input = self.conv1(image_batch))\n",
        "        image_batch = F.relu(input = self.conv2(image_batch))\n",
        "\n",
        "        flat_image_batch = image_batch.view(image_batch.shape[0], -1)\n",
        "        flat_image_batch = F.relu(input = self.linear1(flat_image_batch))\n",
        "\n",
        "        flat_image_batch = self.dropout(F.relu(input = self.linear2(flat_image_batch)))\n",
        "\n",
        "        # Final Layer of the network \n",
        "        flat_image_batch = F.relu(input = self.linear3(flat_image_batch))\n",
        "\n",
        "        # The output from the final layer is a tensor with 10 'logits'\n",
        "        return flat_image_batch"
      ],
      "execution_count": 0,
      "outputs": []
    },
    {
      "cell_type": "code",
      "metadata": {
        "id": "Rg39TAI2HunJ",
        "colab_type": "code",
        "colab": {
          "base_uri": "https://localhost:8080/",
          "height": 34
        },
        "outputId": "215dc6ed-6c91-4265-ecaa-f4a3dd48e971"
      },
      "source": [
        "!pip install torchsummary"
      ],
      "execution_count": 14,
      "outputs": [
        {
          "output_type": "stream",
          "text": [
            "Requirement already satisfied: torchsummary in /usr/local/lib/python3.6/dist-packages (1.5.1)\n"
          ],
          "name": "stdout"
        }
      ]
    },
    {
      "cell_type": "code",
      "metadata": {
        "id": "SYL_A64JHxUd",
        "colab_type": "code",
        "colab": {}
      },
      "source": [
        "from torchsummary import summary"
      ],
      "execution_count": 0,
      "outputs": []
    },
    {
      "cell_type": "code",
      "metadata": {
        "id": "fG4YNpawH0JY",
        "colab_type": "code",
        "colab": {
          "base_uri": "https://localhost:8080/",
          "height": 369
        },
        "outputId": "0f3feed0-709f-4b48-d12e-050772a4113b"
      },
      "source": [
        "# On GPU or on CPU \n",
        "device = torch.device(\"cuda\" if torch.cuda.is_available() else \"cpu\")\n",
        "print('The model will run on', device)\n",
        "\n",
        "# Initialize the model \n",
        "mnist1 = MNISTModel1().to(device)\n",
        "summary(model=mnist1, input_size=(1, 28, 28), batch_size=20)"
      ],
      "execution_count": 16,
      "outputs": [
        {
          "output_type": "stream",
          "text": [
            "The model will run on cuda\n",
            "----------------------------------------------------------------\n",
            "        Layer (type)               Output Shape         Param #\n",
            "================================================================\n",
            "            Conv2d-1            [20, 8, 28, 28]              80\n",
            "            Conv2d-2           [20, 16, 28, 28]           1,168\n",
            "            Linear-3                  [20, 256]       3,211,520\n",
            "            Linear-4                   [20, 64]          16,448\n",
            "           Dropout-5                   [20, 64]               0\n",
            "            Linear-6                   [20, 10]             650\n",
            "================================================================\n",
            "Total params: 3,229,866\n",
            "Trainable params: 3,229,866\n",
            "Non-trainable params: 0\n",
            "----------------------------------------------------------------\n",
            "Input size (MB): 0.06\n",
            "Forward/backward pass size (MB): 2.93\n",
            "Params size (MB): 12.32\n",
            "Estimated Total Size (MB): 15.31\n",
            "----------------------------------------------------------------\n"
          ],
          "name": "stdout"
        }
      ]
    },
    {
      "cell_type": "code",
      "metadata": {
        "id": "Q3LcWYo-H4cz",
        "colab_type": "code",
        "colab": {
          "base_uri": "https://localhost:8080/",
          "height": 140
        },
        "outputId": "681881d8-e9d3-4076-cdfb-0939f8464426"
      },
      "source": [
        "!pip install poutyne"
      ],
      "execution_count": 17,
      "outputs": [
        {
          "output_type": "stream",
          "text": [
            "Collecting poutyne\n",
            "\u001b[?25l  Downloading https://files.pythonhosted.org/packages/d8/83/6beb7cc2206e429342fa6385f92e1eccf1d2af8f4cbcdc5e7402cf65a5c5/Poutyne-0.7.2-py3-none-any.whl (75kB)\n",
            "\u001b[K     |████████████████████████████████| 81kB 7.3MB/s \n",
            "\u001b[?25hRequirement already satisfied: numpy in /usr/local/lib/python3.6/dist-packages (from poutyne) (1.18.2)\n",
            "Requirement already satisfied: torch in /usr/local/lib/python3.6/dist-packages (from poutyne) (1.4.0)\n",
            "Installing collected packages: poutyne\n",
            "Successfully installed poutyne-0.7.2\n"
          ],
          "name": "stdout"
        }
      ]
    },
    {
      "cell_type": "code",
      "metadata": {
        "id": "fGQYjZmAH8Dd",
        "colab_type": "code",
        "colab": {}
      },
      "source": [
        "from poutyne.framework import Model"
      ],
      "execution_count": 0,
      "outputs": []
    },
    {
      "cell_type": "code",
      "metadata": {
        "id": "KZzuVpYgH-ZQ",
        "colab_type": "code",
        "colab": {}
      },
      "source": [
        "from torch import optim"
      ],
      "execution_count": 0,
      "outputs": []
    },
    {
      "cell_type": "code",
      "metadata": {
        "id": "fGP5JVToIAam",
        "colab_type": "code",
        "colab": {}
      },
      "source": [
        "# A few hyperparamters for the training loop \n",
        "learning_rate = 0.1\n",
        "epochs = 3\n",
        "\n",
        "def poutyne_train(pytorch_model):\n",
        "    \n",
        "    optimizer = optim.SGD(pytorch_model.parameters(), lr = learning_rate)\n",
        "    loss_function = nn.CrossEntropyLoss()\n",
        "\n",
        "    model = Model(pytorch_model, optimizer, loss_function, batch_metrics = ['accuracy'])\n",
        "\n",
        "    model.to(device)\n",
        "    model.fit_generator(train_loader, valid_loader, epochs = epochs)\n",
        "    \n",
        "    test_loss ,test_acc = model.evaluate_generator(test_loader)\n",
        "\n",
        "    print(f'Test:\\n\\tLoss: {test_loss: .3f}\\n\\tAccuracy: {test_acc: .3f}')\n",
        "\n",
        "    return None"
      ],
      "execution_count": 0,
      "outputs": []
    },
    {
      "cell_type": "code",
      "metadata": {
        "id": "He9HzQK_IE9S",
        "colab_type": "code",
        "colab": {
          "base_uri": "https://localhost:8080/",
          "height": 122
        },
        "outputId": "c5114d39-3210-4588-a366-04dc8e058c95"
      },
      "source": [
        "poutyne_train(mnist1)"
      ],
      "execution_count": 21,
      "outputs": [
        {
          "output_type": "stream",
          "text": [
            "Epoch 1/3 17.45s Step 2400/2400: loss: 0.351793, acc: 89.012500, val_loss: 0.093538, val_acc: 97.091667\n",
            "Epoch 2/3 17.37s Step 2400/2400: loss: 0.092093, acc: 97.412500, val_loss: 0.070505, val_acc: 97.891667\n",
            "Epoch 3/3 17.47s Step 2400/2400: loss: 0.054607, acc: 98.360417, val_loss: 0.063074, val_acc: 98.158333\n",
            "Test:\n",
            "\tLoss:  0.052\n",
            "\tAccuracy:  98.420\n"
          ],
          "name": "stdout"
        }
      ]
    },
    {
      "cell_type": "code",
      "metadata": {
        "id": "06bJ2NAyIH0Y",
        "colab_type": "code",
        "colab": {}
      },
      "source": [
        "from poutyne.framework import ModelCheckpoint\n",
        "from poutyne.framework import EarlyStopping"
      ],
      "execution_count": 0,
      "outputs": []
    },
    {
      "cell_type": "code",
      "metadata": {
        "id": "n67ZtI3kIPKg",
        "colab_type": "code",
        "colab": {}
      },
      "source": [
        "# Turn the GPU ON\n",
        "\n",
        "# A few hyperparamters for the training loop \n",
        "learning_rate = 0.1\n",
        "epochs = 10 # let's train for more epochs to see the callbacks in action\n",
        "\n",
        "def better_poutyne_train(model_name, pytorch_model):\n",
        "    \n",
        "    callbacks = [\n",
        "        ModelCheckpoint(model_name + '_last_epoch.cpkt', \\\n",
        "                        temporary_filename='last_epoch.ckpt.tmp'),\n",
        "        EarlyStopping(monitor='val_acc', patience=0, verbose=True, mode='max')\n",
        "    ]\n",
        "    \n",
        "    # Select the optimizer and the loss function \n",
        "    optimizer = optim.SGD(pytorch_model.parameters(), lr=learning_rate)\n",
        "    loss_function = nn.CrossEntropyLoss()\n",
        "    # Poutyne Model\n",
        "    model = Model(pytorch_model, optimizer, loss_function, batch_metrics=['accuracy'])\n",
        "    # Send the 'Poutyne model' on GPU/CPU whichever is available \n",
        "    model.to(device)\n",
        "    # Train\n",
        "    model.fit_generator(train_loader, valid_loader, epochs=epochs, callbacks=callbacks)\n",
        "    # Test\n",
        "    test_loss, test_acc = model.evaluate_generator(test_loader)\n",
        "    print(f'Test:\\n\\tLoss: {test_loss: .3f}\\n\\tAccuracy: {test_acc: .3f}')\n",
        "\n",
        "    return None"
      ],
      "execution_count": 0,
      "outputs": []
    },
    {
      "cell_type": "code",
      "metadata": {
        "id": "jC3wYaRfIV0R",
        "colab_type": "code",
        "colab": {
          "base_uri": "https://localhost:8080/",
          "height": 298
        },
        "outputId": "c54b8d33-58f0-4c76-93cb-e6b2a7378072"
      },
      "source": [
        "#For Fun\n",
        "!nvidia-smi"
      ],
      "execution_count": 24,
      "outputs": [
        {
          "output_type": "stream",
          "text": [
            "Thu Apr 23 08:22:38 2020       \n",
            "+-----------------------------------------------------------------------------+\n",
            "| NVIDIA-SMI 440.64.00    Driver Version: 418.67       CUDA Version: 10.1     |\n",
            "|-------------------------------+----------------------+----------------------+\n",
            "| GPU  Name        Persistence-M| Bus-Id        Disp.A | Volatile Uncorr. ECC |\n",
            "| Fan  Temp  Perf  Pwr:Usage/Cap|         Memory-Usage | GPU-Util  Compute M. |\n",
            "|===============================+======================+======================|\n",
            "|   0  Tesla T4            Off  | 00000000:00:04.0 Off |                    0 |\n",
            "| N/A   62C    P0    29W /  70W |    851MiB / 15079MiB |      0%      Default |\n",
            "+-------------------------------+----------------------+----------------------+\n",
            "                                                                               \n",
            "+-----------------------------------------------------------------------------+\n",
            "| Processes:                                                       GPU Memory |\n",
            "|  GPU       PID   Type   Process name                             Usage      |\n",
            "|=============================================================================|\n",
            "+-----------------------------------------------------------------------------+\n"
          ],
          "name": "stdout"
        }
      ]
    },
    {
      "cell_type": "code",
      "metadata": {
        "id": "sn7mW1FpIaUj",
        "colab_type": "code",
        "colab": {
          "base_uri": "https://localhost:8080/",
          "height": 351
        },
        "outputId": "498c5ff2-f1de-4566-d196-3c63953d2b3c"
      },
      "source": [
        "mnist2 = MNISTModel1().to(device)\n",
        "summary(model=mnist2, input_size=(1, 28, 28), batch_size=20)"
      ],
      "execution_count": 25,
      "outputs": [
        {
          "output_type": "stream",
          "text": [
            "----------------------------------------------------------------\n",
            "        Layer (type)               Output Shape         Param #\n",
            "================================================================\n",
            "            Conv2d-1            [20, 8, 28, 28]              80\n",
            "            Conv2d-2           [20, 16, 28, 28]           1,168\n",
            "            Linear-3                  [20, 256]       3,211,520\n",
            "            Linear-4                   [20, 64]          16,448\n",
            "           Dropout-5                   [20, 64]               0\n",
            "            Linear-6                   [20, 10]             650\n",
            "================================================================\n",
            "Total params: 3,229,866\n",
            "Trainable params: 3,229,866\n",
            "Non-trainable params: 0\n",
            "----------------------------------------------------------------\n",
            "Input size (MB): 0.06\n",
            "Forward/backward pass size (MB): 2.93\n",
            "Params size (MB): 12.32\n",
            "Estimated Total Size (MB): 15.31\n",
            "----------------------------------------------------------------\n"
          ],
          "name": "stdout"
        }
      ]
    },
    {
      "cell_type": "code",
      "metadata": {
        "id": "eKV0Xd5ZIdow",
        "colab_type": "code",
        "colab": {
          "base_uri": "https://localhost:8080/",
          "height": 175
        },
        "outputId": "bb6bc5db-8329-443b-8237-cb585a369424"
      },
      "source": [
        "better_poutyne_train(model_name='mnist2', pytorch_model=mnist2)"
      ],
      "execution_count": 26,
      "outputs": [
        {
          "output_type": "stream",
          "text": [
            "Epoch 1/10 17.15s Step 2400/2400: loss: 0.346445, acc: 89.412500, val_loss: 0.099176, val_acc: 97.066667\n",
            "Epoch 2/10 17.63s Step 2400/2400: loss: 0.098996, acc: 97.170833, val_loss: 0.082204, val_acc: 97.558333\n",
            "Epoch 3/10 17.73s Step 2400/2400: loss: 0.058652, acc: 98.300000, val_loss: 0.067269, val_acc: 98.141667\n",
            "Epoch 4/10 17.20s Step 2400/2400: loss: 0.039462, acc: 98.833333, val_loss: 0.064969, val_acc: 98.133333\n",
            "Epoch 5/10 17.26s Step 2400/2400: loss: 0.027153, acc: 99.139583, val_loss: 0.060614, val_acc: 98.400000\n",
            "Epoch 00005: early stopping\n",
            "Test:\n",
            "\tLoss:  0.053\n",
            "\tAccuracy:  98.480\n"
          ],
          "name": "stdout"
        }
      ]
    },
    {
      "cell_type": "code",
      "metadata": {
        "id": "LUWqDz8CIg6Q",
        "colab_type": "code",
        "colab": {
          "base_uri": "https://localhost:8080/",
          "height": 422
        },
        "outputId": "51b23114-6e27-4e0f-8d3d-ee316c1d4c71"
      },
      "source": [
        "!pip install livelossplot "
      ],
      "execution_count": 27,
      "outputs": [
        {
          "output_type": "stream",
          "text": [
            "Collecting livelossplot\n",
            "  Downloading https://files.pythonhosted.org/packages/7c/e4/a7884b57113dfe84d3565418820feae7a20964438beb1088b2b08820ad94/livelossplot-0.5.0-py3-none-any.whl\n",
            "Requirement already satisfied: matplotlib; python_version >= \"3.6\" in /usr/local/lib/python3.6/dist-packages (from livelossplot) (3.2.1)\n",
            "Requirement already satisfied: ipython in /usr/local/lib/python3.6/dist-packages (from livelossplot) (5.5.0)\n",
            "Requirement already satisfied: numpy>=1.11 in /usr/local/lib/python3.6/dist-packages (from matplotlib; python_version >= \"3.6\"->livelossplot) (1.18.2)\n",
            "Requirement already satisfied: python-dateutil>=2.1 in /usr/local/lib/python3.6/dist-packages (from matplotlib; python_version >= \"3.6\"->livelossplot) (2.8.1)\n",
            "Requirement already satisfied: pyparsing!=2.0.4,!=2.1.2,!=2.1.6,>=2.0.1 in /usr/local/lib/python3.6/dist-packages (from matplotlib; python_version >= \"3.6\"->livelossplot) (2.4.7)\n",
            "Requirement already satisfied: cycler>=0.10 in /usr/local/lib/python3.6/dist-packages (from matplotlib; python_version >= \"3.6\"->livelossplot) (0.10.0)\n",
            "Requirement already satisfied: kiwisolver>=1.0.1 in /usr/local/lib/python3.6/dist-packages (from matplotlib; python_version >= \"3.6\"->livelossplot) (1.2.0)\n",
            "Requirement already satisfied: traitlets>=4.2 in /usr/local/lib/python3.6/dist-packages (from ipython->livelossplot) (4.3.3)\n",
            "Requirement already satisfied: pexpect; sys_platform != \"win32\" in /usr/local/lib/python3.6/dist-packages (from ipython->livelossplot) (4.8.0)\n",
            "Requirement already satisfied: simplegeneric>0.8 in /usr/local/lib/python3.6/dist-packages (from ipython->livelossplot) (0.8.1)\n",
            "Requirement already satisfied: prompt-toolkit<2.0.0,>=1.0.4 in /usr/local/lib/python3.6/dist-packages (from ipython->livelossplot) (1.0.18)\n",
            "Requirement already satisfied: pickleshare in /usr/local/lib/python3.6/dist-packages (from ipython->livelossplot) (0.7.5)\n",
            "Requirement already satisfied: setuptools>=18.5 in /usr/local/lib/python3.6/dist-packages (from ipython->livelossplot) (46.1.3)\n",
            "Requirement already satisfied: pygments in /usr/local/lib/python3.6/dist-packages (from ipython->livelossplot) (2.1.3)\n",
            "Requirement already satisfied: decorator in /usr/local/lib/python3.6/dist-packages (from ipython->livelossplot) (4.4.2)\n",
            "Requirement already satisfied: six>=1.5 in /usr/local/lib/python3.6/dist-packages (from python-dateutil>=2.1->matplotlib; python_version >= \"3.6\"->livelossplot) (1.12.0)\n",
            "Requirement already satisfied: ipython-genutils in /usr/local/lib/python3.6/dist-packages (from traitlets>=4.2->ipython->livelossplot) (0.2.0)\n",
            "Requirement already satisfied: ptyprocess>=0.5 in /usr/local/lib/python3.6/dist-packages (from pexpect; sys_platform != \"win32\"->ipython->livelossplot) (0.6.0)\n",
            "Requirement already satisfied: wcwidth in /usr/local/lib/python3.6/dist-packages (from prompt-toolkit<2.0.0,>=1.0.4->ipython->livelossplot) (0.1.9)\n",
            "Installing collected packages: livelossplot\n",
            "Successfully installed livelossplot-0.5.0\n"
          ],
          "name": "stdout"
        }
      ]
    },
    {
      "cell_type": "code",
      "metadata": {
        "id": "F7DEvoTkIohr",
        "colab_type": "code",
        "colab": {}
      },
      "source": [
        "from livelossplot import PlotLossesPoutyne"
      ],
      "execution_count": 0,
      "outputs": []
    },
    {
      "cell_type": "code",
      "metadata": {
        "id": "LMPUEiphIqtx",
        "colab_type": "code",
        "colab": {}
      },
      "source": [
        "# A fancy pouytne training loop\n",
        "\n",
        "# A few hyperparamters for the training loop \n",
        "learning_rate = 0.1\n",
        "epochs = 10 # let's train for more epochs to see the callbacks in action\n",
        "\n",
        "def fancy_poutyne_train(model_name, pytorch_model):\n",
        "    \n",
        "    # setting up the livelossplot callback\n",
        "    plotlosses = PlotLossesPoutyne()\n",
        "    callbacks = [\n",
        "        # Save the latest weights \n",
        "        ModelCheckpoint(model_name + '_last_epoch.ckpt', \\\n",
        "                        temporary_filename='last_epoch.ckpt.tmp'),\n",
        "        # EarlyStopping\n",
        "        EarlyStopping(monitor='val_acc', patience=0, verbose=True, mode='max'),\n",
        "        # ---- FILL IN ----\n",
        "        plotlosses\n",
        "    ]\n",
        "    \n",
        "    # Select the optimizer and the loss function \n",
        "    optimizer = optim.SGD(pytorch_model.parameters(), lr=learning_rate)\n",
        "    loss_function = nn.CrossEntropyLoss()\n",
        "    # Poutyne Model\n",
        "    model = Model(pytorch_model, optimizer, loss_function, batch_metrics=['accuracy'])\n",
        "    # Send the 'Poutyne model' on GPU/CPU whichever is available \n",
        "    model.to(device)\n",
        "    # Train\n",
        "    model.fit_generator(train_loader, valid_loader, epochs=epochs, callbacks=callbacks)\n",
        "    # Test\n",
        "    test_loss, test_acc = model.evaluate_generator(test_loader)\n",
        "    print(f'Test:\\n\\tLoss: {test_loss: .3f}\\n\\tAccuracy: {test_acc: .3f}')\n",
        "\n",
        "    return None "
      ],
      "execution_count": 0,
      "outputs": []
    },
    {
      "cell_type": "code",
      "metadata": {
        "id": "uDXoVQQoI1ha",
        "colab_type": "code",
        "colab": {
          "base_uri": "https://localhost:8080/",
          "height": 351
        },
        "outputId": "9f4bffa9-1bb7-47e5-b914-cc5d509f7e36"
      },
      "source": [
        "mnist3 = MNISTModel1().to(device)\n",
        "summary(model=mnist3, input_size=(1, 28, 28), batch_size=20)"
      ],
      "execution_count": 30,
      "outputs": [
        {
          "output_type": "stream",
          "text": [
            "----------------------------------------------------------------\n",
            "        Layer (type)               Output Shape         Param #\n",
            "================================================================\n",
            "            Conv2d-1            [20, 8, 28, 28]              80\n",
            "            Conv2d-2           [20, 16, 28, 28]           1,168\n",
            "            Linear-3                  [20, 256]       3,211,520\n",
            "            Linear-4                   [20, 64]          16,448\n",
            "           Dropout-5                   [20, 64]               0\n",
            "            Linear-6                   [20, 10]             650\n",
            "================================================================\n",
            "Total params: 3,229,866\n",
            "Trainable params: 3,229,866\n",
            "Non-trainable params: 0\n",
            "----------------------------------------------------------------\n",
            "Input size (MB): 0.06\n",
            "Forward/backward pass size (MB): 2.93\n",
            "Params size (MB): 12.32\n",
            "Estimated Total Size (MB): 15.31\n",
            "----------------------------------------------------------------\n"
          ],
          "name": "stdout"
        }
      ]
    },
    {
      "cell_type": "code",
      "metadata": {
        "id": "uFQypuy_I6jl",
        "colab_type": "code",
        "colab": {
          "base_uri": "https://localhost:8080/",
          "height": 502
        },
        "outputId": "369b8498-de1b-4e0e-dd9c-d23f3fe15989"
      },
      "source": [
        "#Nerd Stuff\n",
        "fancy_poutyne_train(model_name='mnist3', pytorch_model=mnist3)"
      ],
      "execution_count": 31,
      "outputs": [
        {
          "output_type": "display_data",
          "data": {
            "image/png": "[encoded data removed]",
            "text/plain": [
              "<Figure size 864x576 with 2 Axes>"
            ]
          },
          "metadata": {
            "tags": [],
            "needs_background": "light"
          }
        },
        {
          "output_type": "stream",
          "text": [
            "Accuracy\n",
            "\ttraining         \t (min:   87.904, max:   99.562, cur:   99.562)\n",
            "\tvalidation       \t (min:   97.200, max:   98.458, cur:   98.458)\n",
            "Loss\n",
            "\ttraining         \t (min:    0.014, max:    0.386, cur:    0.014)\n",
            "\tvalidation       \t (min:    0.061, max:    0.098, cur:    0.068)\n",
            "Epoch 00007: early stopping\n",
            "Test:\n",
            "\tLoss:  0.063\n",
            "\tAccuracy:  98.540\n"
          ],
          "name": "stdout"
        }
      ]
    },
    {
      "cell_type": "code",
      "metadata": {
        "id": "f10w2VBSI-8v",
        "colab_type": "code",
        "colab": {}
      },
      "source": [
        "def inference():\n",
        "    PATH = 'mnist3_last_epoch.ckpt' # Path to the saved model checkpoint\n",
        "\n",
        "    model = MNISTModel1().to('cpu')\n",
        "    model.load_state_dict(torch.load(PATH))\n",
        "\n",
        "    summary(model, (1, 28, 28), device = 'cpu')\n",
        "\n",
        "    dataiter = iter(train_loader)\n",
        "    images, labels = dataiter.next()\n",
        "    label = labels[0]\n",
        "\n",
        "    image = images[0]\n",
        "\n",
        "    image = torch.unsqueeze(image, dim=0)\n",
        "    print('\\nimage.shape =>', image.shape)\n",
        "\n",
        "    with torch.no_grad():\n",
        "      output = model.forward(image)\n",
        "\n",
        "    class_probabilities = F.softmax(output, dim=1).numpy().squeeze()\n",
        "    print('\\nClass Probabilities ==>', class_probabilities)\n",
        "    for i, proba in enumerate(class_probabilities):\n",
        "        print(f'Class \\t{i}\\t Probability \\t{100*proba:.2f}%')\n",
        "\n",
        "    fig, (ax1, ax2) = plt.subplots(figsize=(6,9), ncols=2)\n",
        "    ax1.imshow(image.resize_(1, 28, 28).numpy().squeeze())\n",
        "    ax1.set_title('Ground Truth ' + str(label.numpy()))\n",
        "    # ax2 holds a horizontal bar chart containing class_probabilities \n",
        "    ax2.barh(np.arange(10), class_probabilities)\n",
        "    ax2.set_aspect(0.1) # aspect ratio of ax2, else it will get too big\n",
        "    ax2.set_yticks(np.arange(10)) # 10 ticks on the y-axis for 10 classes\n",
        "    ax2.set_yticklabels(np.arange(10)) # set the ticklabels from 0 to 9\n",
        "    ax2.set_title('Class Probability')\n",
        "    ax2.set_xlim(0, 1.1) # probability can't be over 1, hence set limit to 1.1\n",
        "\n",
        "    return None"
      ],
      "execution_count": 0,
      "outputs": []
    },
    {
      "cell_type": "code",
      "metadata": {
        "id": "zJW9F3yIJOVS",
        "colab_type": "code",
        "colab": {
          "base_uri": "https://localhost:8080/",
          "height": 797
        },
        "outputId": "10b3e8e0-9fca-4cfa-8ad7-35f437bbee04"
      },
      "source": [
        "inference()"
      ],
      "execution_count": 33,
      "outputs": [
        {
          "output_type": "stream",
          "text": [
            "----------------------------------------------------------------\n",
            "        Layer (type)               Output Shape         Param #\n",
            "================================================================\n",
            "            Conv2d-1            [-1, 8, 28, 28]              80\n",
            "            Conv2d-2           [-1, 16, 28, 28]           1,168\n",
            "            Linear-3                  [-1, 256]       3,211,520\n",
            "            Linear-4                   [-1, 64]          16,448\n",
            "           Dropout-5                   [-1, 64]               0\n",
            "            Linear-6                   [-1, 10]             650\n",
            "================================================================\n",
            "Total params: 3,229,866\n",
            "Trainable params: 3,229,866\n",
            "Non-trainable params: 0\n",
            "----------------------------------------------------------------\n",
            "Input size (MB): 0.00\n",
            "Forward/backward pass size (MB): 0.15\n",
            "Params size (MB): 12.32\n",
            "Estimated Total Size (MB): 12.47\n",
            "----------------------------------------------------------------\n",
            "\n",
            "image.shape => torch.Size([1, 1, 28, 28])\n",
            "\n",
            "Class Probabilities ==> [5.41e-09 5.41e-09 5.41e-09 1.08e-08 5.66e-05 1.12e-06 5.41e-09 2.18e-08 3.02e-07 1.00e+00]\n",
            "Class \t0\t Probability \t0.00%\n",
            "Class \t1\t Probability \t0.00%\n",
            "Class \t2\t Probability \t0.00%\n",
            "Class \t3\t Probability \t0.00%\n",
            "Class \t4\t Probability \t0.01%\n",
            "Class \t5\t Probability \t0.00%\n",
            "Class \t6\t Probability \t0.00%\n",
            "Class \t7\t Probability \t0.00%\n",
            "Class \t8\t Probability \t0.00%\n",
            "Class \t9\t Probability \t99.99%\n"
          ],
          "name": "stdout"
        },
        {
          "output_type": "display_data",
          "data": {
            "image/png": "[encoded data removed]",
            "text/plain": [
              "<Figure size 432x648 with 2 Axes>"
            ]
          },
          "metadata": {
            "tags": [],
            "needs_background": "light"
          }
        }
      ]
    },
    {
      "cell_type": "code",
      "metadata": {
        "id": "1wEL7IzyJUkQ",
        "colab_type": "code",
        "colab": {}
      },
      "source": [
        ""
      ],
      "execution_count": 0,
      "outputs": []
    }
  ]
}